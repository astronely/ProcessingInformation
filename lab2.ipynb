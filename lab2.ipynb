{
 "cells": [
  {
   "cell_type": "code",
   "id": "initial_id",
   "metadata": {
    "collapsed": true,
    "ExecuteTime": {
     "end_time": "2025-03-05T10:39:00.696188Z",
     "start_time": "2025-03-05T10:38:53.707384Z"
    }
   },
   "source": [
    "import pandas as pd\n",
    "import time\n",
    "import matplotlib.pyplot as plt\n",
    "from apyori import apriori"
   ],
   "outputs": [],
   "execution_count": 1
  },
  {
   "metadata": {},
   "cell_type": "markdown",
   "source": [
    "## Подготовка данных"
   ],
   "id": "2b4f0e9ba7e6c894"
  },
  {
   "metadata": {
    "ExecuteTime": {
     "end_time": "2025-03-05T10:39:00.699202Z",
     "start_time": "2025-03-05T10:39:00.697084Z"
    }
   },
   "cell_type": "code",
   "source": [
    "# Функция загрузки и подготовки данных\n",
    "def load_data(filename):\n",
    "    \"\"\"\n",
    "    Загружает данные из .CSV файла и преобразует их в список транзакций.\n",
    "    \n",
    "    :params:\n",
    "    filename -- имя CSV-файла с покупками (товары в строке через запятую)\n",
    "    \n",
    "    :returns:\n",
    "    transactions -- список списков (каждый внутренний список - это покупка)\n",
    "    \"\"\"\n",
    "    # Читаем CSV, разделитель — запятая, без заголовков\n",
    "    data = pd.read_csv(filename, header=None)\n",
    "    \n",
    "    # Преобразуем строки в списки товаров\n",
    "    transactions = data.apply(lambda row: [item.strip() for item in row.dropna()], axis=1).tolist()\n",
    "    \n",
    "    return transactions\n"
   ],
   "id": "cf166ba09d15f825",
   "outputs": [],
   "execution_count": 2
  },
  {
   "metadata": {
    "ExecuteTime": {
     "end_time": "2025-03-05T10:39:00.890999Z",
     "start_time": "2025-03-05T10:39:00.699817Z"
    }
   },
   "cell_type": "code",
   "source": [
    "# Загружаем данные\n",
    "data_path = \"./data/baskets.csv\"\n",
    "transactions = load_data(data_path)\n",
    "print(f\"Загружено {len(transactions)} транзакций. Пример данных:\")\n",
    "for transaction in transactions[:5]:\n",
    "    print(transaction)"
   ],
   "id": "6fca337c3b0ffbbb",
   "outputs": [
    {
     "name": "stdout",
     "output_type": "stream",
     "text": [
      "Загружено 7501 транзакций. Пример данных:\n",
      "['креветки', 'миндаль', 'авокадо', 'овощная смесь', 'зеленый виноград', 'цельнозерновая мука', 'батат', 'творог', 'энергетический напиток', 'томатный сок', 'низкокалорийный йогурт', 'зеленый чай', 'мед', 'салат', 'минеральная вода', 'лосось', 'ягодный сок', 'замороженный смузи', 'шпинат', 'оливковое масло']\n",
      "['гамбургер', 'фрикадельки', 'яйца']\n",
      "['чатни']\n",
      "['индейка', 'авокадо']\n",
      "['минеральная вода', 'молоко', 'энергетический батончик', 'рис', 'зеленый чай']\n"
     ]
    }
   ],
   "execution_count": 3
  },
  {
   "metadata": {},
   "cell_type": "markdown",
   "source": [
    "## Поиск ассоциативных правил"
   ],
   "id": "c99e56f835bc68bc"
  },
  {
   "metadata": {
    "ExecuteTime": {
     "end_time": "2025-03-05T10:39:00.896079Z",
     "start_time": "2025-03-05T10:39:00.892274Z"
    }
   },
   "cell_type": "code",
   "source": [
    "def run_apriori(transactions, min_support, min_confidence, sort_method = \"support\"):\n",
    "    \"\"\"\n",
    "    Выполняет алгоритм Apriori с библиотекой apyori.\n",
    "    \n",
    "    :param:\n",
    "    transactions -- список транзакций (списков товаров)\n",
    "    min_support -- минимальный порог поддержки (в долях, например 0.05)\n",
    "    min_confidence -- минимальный порог достоверности (в долях, например 0.7)\n",
    "    \n",
    "    :returns:\n",
    "    DataFrame с найденными частыми наборами и их поддержкой\n",
    "    \"\"\"\n",
    "    results = list(apriori(transactions, min_support=min_support, min_confidence=min_confidence))\n",
    "    \n",
    "    association_rules = []\n",
    "    for result in results:\n",
    "        for rule in result.ordered_statistics:\n",
    "            antecedent = tuple(rule.items_base)\n",
    "            consequent = tuple(rule.items_add)\n",
    "            support = result.support\n",
    "            confidence = rule.confidence\n",
    "            association_rules.append((antecedent, consequent, support, confidence))\n",
    "    \n",
    "    df = pd.DataFrame(association_rules, columns=[\"antecedent\", \"consequent\", \"support\", \"confidence\"])\n",
    "    \n",
    "    # Сортируем по заданному критерию\n",
    "    if sort_method == \"support\":\n",
    "        df = df.sort_values(by=\"support\", ascending=False)\n",
    "    elif sort_method == \"lexicographic\":\n",
    "        df = df.sort_values(by=\"itemsets\", ascending=True)\n",
    "        \n",
    "    return df\n",
    "\n",
    "def filter_rules_by_length(association_rules, max_length=7):\n",
    "    \"\"\"\n",
    "    Фильтрует ассоциативные правила по условию, что антецедент и консеквент суммарно не более max_length объектов.\n",
    "    \n",
    "    Аргументы:\n",
    "    association_rules -- DataFrame с ассоциативными правилами\n",
    "    max_length -- максимальное количество объектов в антецеденте и консеквенте\n",
    "    \n",
    "    Возвращает:\n",
    "    DataFrame с отфильтрованными ассоциативными правилами\n",
    "    \"\"\"\n",
    "    # Фильтруем правила по длине\n",
    "    filtered_rules = association_rules[association_rules['antecedent'].apply(lambda x: len(x)) + association_rules['consequent'].apply(lambda x: len(x)) <= max_length]\n",
    "    \n",
    "    return filtered_rules\n"
   ],
   "id": "eacd1ef0a8e3dcd9",
   "outputs": [],
   "execution_count": 4
  },
  {
   "metadata": {
    "ExecuteTime": {
     "end_time": "2025-03-05T10:39:01.264814Z",
     "start_time": "2025-03-05T10:39:00.896798Z"
    }
   },
   "cell_type": "code",
   "source": [
    "execution_time = list()\n",
    "rule_count = list()\n",
    "association_rules = list()\n",
    "\n",
    "for min_confidence_value in range(20, 70, 5):\n",
    "    start_time = time.time()\n",
    "    received_association_rules = run_apriori(transactions, min_support=1/100, min_confidence=min_confidence_value/100, sort_method = \"support\")\n",
    "    execution_time.append(time.time()-start_time)\n",
    "    \n",
    "    rule_count.append(len(received_association_rules))\n",
    "    association_rules.append((min_confidence_value, received_association_rules))"
   ],
   "id": "dffdf85634801fc6",
   "outputs": [],
   "execution_count": 5
  },
  {
   "metadata": {
    "ExecuteTime": {
     "end_time": "2025-03-05T10:39:01.280429Z",
     "start_time": "2025-03-05T10:39:01.265655Z"
    }
   },
   "cell_type": "code",
   "source": [
    "for min_confidence_value, association_rules_df in association_rules:\n",
    "    print(f\"Минимальное значение достоверности {min_confidence_value:.0f}%: {association_rules_df.shape[0]} ассоциативных правил\")\n",
    "    print(association_rules_df)\n",
    "    print(\"-\"*40)\n",
    "    "
   ],
   "id": "11835e4f6f032b72",
   "outputs": [
    {
     "name": "stdout",
     "output_type": "stream",
     "text": [
      "Минимальное значение достоверности 20%: 164 ассоциативных правил\n",
      "                           antecedent           consequent   support  \\\n",
      "0                                  ()  (минеральная вода,)  0.238368   \n",
      "61                        (макароны,)  (минеральная вода,)  0.061192   \n",
      "62                (минеральная вода,)          (макароны,)  0.061192   \n",
      "93                (минеральная вода,)           (шоколад,)  0.052660   \n",
      "94                         (шоколад,)  (минеральная вода,)  0.052660   \n",
      "..                                ...                  ...       ...   \n",
      "136         (макароны, картофель-фри)  (минеральная вода,)  0.010399   \n",
      "92                          (хлопья,)  (минеральная вода,)  0.010265   \n",
      "128  (говяжий фарш, минеральная вода)              (яйца,)  0.010132   \n",
      "110                            (суп,)           (шоколад,)  0.010132   \n",
      "129              (говяжий фарш, яйца)  (минеральная вода,)  0.010132   \n",
      "\n",
      "     confidence  \n",
      "0      0.238368  \n",
      "61     0.325532  \n",
      "62     0.256711  \n",
      "93     0.220917  \n",
      "94     0.321400  \n",
      "..          ...  \n",
      "136    0.345133  \n",
      "92     0.398964  \n",
      "128    0.247557  \n",
      "110    0.200528  \n",
      "129    0.506667  \n",
      "\n",
      "[164 rows x 4 columns]\n",
      "----------------------------------------\n",
      "Минимальное значение достоверности 25%: 99 ассоциативных правил\n",
      "                           antecedent           consequent   support  \\\n",
      "29                (минеральная вода,)          (макароны,)  0.061192   \n",
      "28                        (макароны,)  (минеральная вода,)  0.061192   \n",
      "52                         (шоколад,)  (минеральная вода,)  0.052660   \n",
      "53                            (яйца,)  (минеральная вода,)  0.050927   \n",
      "40                          (молоко,)  (минеральная вода,)  0.047994   \n",
      "..                                ...                  ...       ...   \n",
      "73  (картофель-фри, минеральная вода)          (макароны,)  0.010399   \n",
      "72          (макароны, картофель-фри)  (минеральная вода,)  0.010399   \n",
      "17                    (красное вино,)          (макароны,)  0.010399   \n",
      "51                          (хлопья,)  (минеральная вода,)  0.010265   \n",
      "67               (говяжий фарш, яйца)  (минеральная вода,)  0.010132   \n",
      "\n",
      "    confidence  \n",
      "29    0.256711  \n",
      "28    0.325532  \n",
      "52    0.321400  \n",
      "53    0.283383  \n",
      "40    0.370370  \n",
      "..         ...  \n",
      "73    0.308300  \n",
      "72    0.345133  \n",
      "17    0.369668  \n",
      "51    0.398964  \n",
      "67    0.506667  \n",
      "\n",
      "[99 rows x 4 columns]\n",
      "----------------------------------------\n",
      "Минимальное значение достоверности 30%: 65 ассоциативных правил\n",
      "                           antecedent           consequent   support  \\\n",
      "17                        (макароны,)  (минеральная вода,)  0.061192   \n",
      "37                         (шоколад,)  (минеральная вода,)  0.052660   \n",
      "25                          (молоко,)  (минеральная вода,)  0.047994   \n",
      "4                     (говяжий фарш,)  (минеральная вода,)  0.040928   \n",
      "3                     (говяжий фарш,)          (макароны,)  0.040261   \n",
      "..                                ...                  ...       ...   \n",
      "51  (картофель-фри, минеральная вода)          (макароны,)  0.010399   \n",
      "19                           (перец,)          (макароны,)  0.010399   \n",
      "10                    (красное вино,)          (макароны,)  0.010399   \n",
      "36                          (хлопья,)  (минеральная вода,)  0.010265   \n",
      "45               (говяжий фарш, яйца)  (минеральная вода,)  0.010132   \n",
      "\n",
      "    confidence  \n",
      "17    0.325532  \n",
      "37    0.321400  \n",
      "25    0.370370  \n",
      "4     0.416554  \n",
      "3     0.409769  \n",
      "..         ...  \n",
      "51    0.308300  \n",
      "19    0.391960  \n",
      "10    0.369668  \n",
      "36    0.398964  \n",
      "45    0.506667  \n",
      "\n",
      "[65 rows x 4 columns]\n",
      "----------------------------------------\n",
      "Минимальное значение достоверности 35%: 34 ассоциативных правил\n",
      "                             antecedent           consequent   support  \\\n",
      "11                            (молоко,)  (минеральная вода,)  0.047994   \n",
      "2                       (говяжий фарш,)  (минеральная вода,)  0.040928   \n",
      "1                       (говяжий фарш,)          (макароны,)  0.040261   \n",
      "3                 (замороженные овощи,)  (минеральная вода,)  0.035729   \n",
      "0                           (блинчики,)  (минеральная вода,)  0.033729   \n",
      "12                   (оливковое масло,)  (минеральная вода,)  0.027596   \n",
      "15                               (рис,)  (минеральная вода,)  0.027330   \n",
      "6                           (креветки,)          (макароны,)  0.025197   \n",
      "13                          (помидоры,)  (минеральная вода,)  0.024397   \n",
      "9                    (оливковое масло,)          (макароны,)  0.023730   \n",
      "16                               (суп,)  (минеральная вода,)  0.023064   \n",
      "7                             (курица,)  (минеральная вода,)  0.022797   \n",
      "14                (растительное масло,)  (минеральная вода,)  0.020131   \n",
      "19             (макароны, говяжий фарш)  (минеральная вода,)  0.017198   \n",
      "20     (говяжий фарш, минеральная вода)          (макароны,)  0.017198   \n",
      "8                             (лосось,)  (минеральная вода,)  0.017064   \n",
      "29                  (макароны, шоколад)  (минеральная вода,)  0.016398   \n",
      "26                   (макароны, молоко)  (минеральная вода,)  0.016131   \n",
      "30                     (макароны, яйца)  (минеральная вода,)  0.015198   \n",
      "31                    (молоко, шоколад)  (минеральная вода,)  0.013998   \n",
      "33                      (яйца, шоколад)  (минеральная вода,)  0.013465   \n",
      "32                       (яйца, молоко)  (минеральная вода,)  0.013065   \n",
      "24       (макароны, замороженные овощи)  (минеральная вода,)  0.012265   \n",
      "18                 (макароны, блинчики)  (минеральная вода,)  0.011732   \n",
      "21               (говяжий фарш, молоко)  (минеральная вода,)  0.011065   \n",
      "25         (молоко, замороженные овощи)  (минеральная вода,)  0.011065   \n",
      "22              (говяжий фарш, шоколад)  (минеральная вода,)  0.010932   \n",
      "5                       (красное вино,)  (минеральная вода,)  0.010932   \n",
      "27          (макароны, оливковое масло)  (минеральная вода,)  0.010665   \n",
      "28  (оливковое масло, минеральная вода)          (макароны,)  0.010665   \n",
      "10                             (перец,)          (макароны,)  0.010399   \n",
      "4                       (красное вино,)          (макароны,)  0.010399   \n",
      "17                            (хлопья,)  (минеральная вода,)  0.010265   \n",
      "23                 (говяжий фарш, яйца)  (минеральная вода,)  0.010132   \n",
      "\n",
      "    confidence  \n",
      "11    0.370370  \n",
      "2     0.416554  \n",
      "1     0.409769  \n",
      "3     0.374825  \n",
      "0     0.354839  \n",
      "12    0.419028  \n",
      "15    0.359649  \n",
      "6     0.352612  \n",
      "13    0.356725  \n",
      "9     0.360324  \n",
      "16    0.456464  \n",
      "7     0.380000  \n",
      "14    0.394256  \n",
      "19    0.427152  \n",
      "20    0.420195  \n",
      "8     0.401254  \n",
      "29    0.401961  \n",
      "26    0.436823  \n",
      "30    0.393103  \n",
      "31    0.435685  \n",
      "33    0.405622  \n",
      "32    0.424242  \n",
      "24    0.433962  \n",
      "18    0.458333  \n",
      "21    0.503030  \n",
      "25    0.468927  \n",
      "22    0.473988  \n",
      "5     0.388626  \n",
      "27    0.449438  \n",
      "28    0.386473  \n",
      "10    0.391960  \n",
      "4     0.369668  \n",
      "17    0.398964  \n",
      "23    0.506667  \n",
      "----------------------------------------\n",
      "Минимальное значение достоверности 40%: 19 ассоциативных правил\n",
      "                          antecedent           consequent   support  \\\n",
      "1                    (говяжий фарш,)  (минеральная вода,)  0.040928   \n",
      "0                    (говяжий фарш,)          (макароны,)  0.040261   \n",
      "3                 (оливковое масло,)  (минеральная вода,)  0.027596   \n",
      "4                             (суп,)  (минеральная вода,)  0.023064   \n",
      "6           (макароны, говяжий фарш)  (минеральная вода,)  0.017198   \n",
      "7   (говяжий фарш, минеральная вода)          (макароны,)  0.017198   \n",
      "2                          (лосось,)  (минеральная вода,)  0.017064   \n",
      "15               (макароны, шоколад)  (минеральная вода,)  0.016398   \n",
      "13                (макароны, молоко)  (минеральная вода,)  0.016131   \n",
      "16                 (молоко, шоколад)  (минеральная вода,)  0.013998   \n",
      "18                   (яйца, шоколад)  (минеральная вода,)  0.013465   \n",
      "17                    (яйца, молоко)  (минеральная вода,)  0.013065   \n",
      "11    (макароны, замороженные овощи)  (минеральная вода,)  0.012265   \n",
      "5               (макароны, блинчики)  (минеральная вода,)  0.011732   \n",
      "12      (молоко, замороженные овощи)  (минеральная вода,)  0.011065   \n",
      "8             (говяжий фарш, молоко)  (минеральная вода,)  0.011065   \n",
      "9            (говяжий фарш, шоколад)  (минеральная вода,)  0.010932   \n",
      "14       (макароны, оливковое масло)  (минеральная вода,)  0.010665   \n",
      "10              (говяжий фарш, яйца)  (минеральная вода,)  0.010132   \n",
      "\n",
      "    confidence  \n",
      "1     0.416554  \n",
      "0     0.409769  \n",
      "3     0.419028  \n",
      "4     0.456464  \n",
      "6     0.427152  \n",
      "7     0.420195  \n",
      "2     0.401254  \n",
      "15    0.401961  \n",
      "13    0.436823  \n",
      "16    0.435685  \n",
      "18    0.405622  \n",
      "17    0.424242  \n",
      "11    0.433962  \n",
      "5     0.458333  \n",
      "12    0.468927  \n",
      "8     0.503030  \n",
      "9     0.473988  \n",
      "14    0.449438  \n",
      "10    0.506667  \n",
      "----------------------------------------\n",
      "Минимальное значение достоверности 45%: 6 ассоциативных правил\n",
      "                     antecedent           consequent   support  confidence\n",
      "0                        (суп,)  (минеральная вода,)  0.023064    0.456464\n",
      "1          (макароны, блинчики)  (минеральная вода,)  0.011732    0.458333\n",
      "2        (говяжий фарш, молоко)  (минеральная вода,)  0.011065    0.503030\n",
      "5  (молоко, замороженные овощи)  (минеральная вода,)  0.011065    0.468927\n",
      "3       (говяжий фарш, шоколад)  (минеральная вода,)  0.010932    0.473988\n",
      "4          (говяжий фарш, яйца)  (минеральная вода,)  0.010132    0.506667\n",
      "----------------------------------------\n",
      "Минимальное значение достоверности 50%: 2 ассоциативных правил\n",
      "               antecedent           consequent   support  confidence\n",
      "0  (говяжий фарш, молоко)  (минеральная вода,)  0.011065    0.503030\n",
      "1    (говяжий фарш, яйца)  (минеральная вода,)  0.010132    0.506667\n",
      "----------------------------------------\n",
      "Минимальное значение достоверности 55%: 0 ассоциативных правил\n",
      "Empty DataFrame\n",
      "Columns: [antecedent, consequent, support, confidence]\n",
      "Index: []\n",
      "----------------------------------------\n",
      "Минимальное значение достоверности 60%: 0 ассоциативных правил\n",
      "Empty DataFrame\n",
      "Columns: [antecedent, consequent, support, confidence]\n",
      "Index: []\n",
      "----------------------------------------\n",
      "Минимальное значение достоверности 65%: 0 ассоциативных правил\n",
      "Empty DataFrame\n",
      "Columns: [antecedent, consequent, support, confidence]\n",
      "Index: []\n",
      "----------------------------------------\n"
     ]
    }
   ],
   "execution_count": 6
  },
  {
   "metadata": {},
   "cell_type": "markdown",
   "source": [
    "## Вывод графиков"
   ],
   "id": "323f95d721cba9ac"
  },
  {
   "metadata": {
    "ExecuteTime": {
     "end_time": "2025-03-05T10:39:51.055453Z",
     "start_time": "2025-03-05T10:39:50.985516Z"
    }
   },
   "cell_type": "code",
   "source": [
    "plt.figure(figsize=(8, 5))\n",
    "plt.plot([s for s in range(20, 70, 5)], execution_time, marker=\"o\", color=\"b\", label=\"Execution time\")\n",
    "plt.xlabel(\"Confidence threshold (%)\")\n",
    "plt.ylabel(\"Execution time (seconds)\")\n",
    "plt.title(\"Execution Time vs. Confidence Threshold\")\n",
    "plt.legend()\n",
    "plt.grid()\n",
    "plt.show()"
   ],
   "id": "4ef1c38f941853b1",
   "outputs": [
    {
     "data": {
      "text/plain": "<Figure size 800x500 with 1 Axes>",
      "image/png": "[encoded data removed]"
     },
     "metadata": {},
     "output_type": "display_data"
    }
   ],
   "execution_count": 10
  },
  {
   "metadata": {
    "ExecuteTime": {
     "end_time": "2025-03-05T10:39:01.398027Z",
     "start_time": "2025-03-05T10:39:01.349576Z"
    }
   },
   "cell_type": "code",
   "source": [
    "# Визуализируем данные\n",
    "plt.figure(figsize=(8, 5))\n",
    "plt.plot([c for c in range(20, 70, 5)], rule_count, marker=\"o\", color=\"red\", label=\"Number of rules\")\n",
    "plt.xlabel(\"Confidence threshold (%)\")\n",
    "plt.ylabel(\"Number of association rules\")\n",
    "plt.title(\"Number of association rules vs. Confidence Threshold\")\n",
    "plt.legend()\n",
    "plt.grid()\n",
    "plt.show()"
   ],
   "id": "89d42f7f0073d219",
   "outputs": [
    {
     "data": {
      "text/plain": "<Figure size 800x500 with 1 Axes>",
      "image/png": "[encoded data removed]"
     },
     "metadata": {},
     "output_type": "display_data"
    }
   ],
   "execution_count": 8
  },
  {
   "metadata": {},
   "cell_type": "markdown",
   "source": [
    "### Вывод списка правил, где антецедент и консеквент суммарно включают в себя не более семи объектов"
   ],
   "id": "287959bcec806999"
  },
  {
   "metadata": {
    "ExecuteTime": {
     "end_time": "2025-03-05T10:39:01.459815Z",
     "start_time": "2025-03-05T10:39:01.399893Z"
    }
   },
   "cell_type": "code",
   "source": [
    "filtered_rules = filter_rules_by_length(run_apriori(transactions, min_support=1/100, min_confidence=20/100), max_length=7)\n",
    "# Выводим отфильтрованные правила\n",
    "filtered_rules"
   ],
   "id": "4c301134571cd15a",
   "outputs": [
    {
     "data": {
      "text/plain": "                           antecedent           consequent   support  \\\n0                                  ()  (минеральная вода,)  0.238368   \n61                        (макароны,)  (минеральная вода,)  0.061192   \n62                (минеральная вода,)          (макароны,)  0.061192   \n93                (минеральная вода,)           (шоколад,)  0.052660   \n94                         (шоколад,)  (минеральная вода,)  0.052660   \n..                                ...                  ...       ...   \n136         (макароны, картофель-фри)  (минеральная вода,)  0.010399   \n92                          (хлопья,)  (минеральная вода,)  0.010265   \n128  (говяжий фарш, минеральная вода)              (яйца,)  0.010132   \n110                            (суп,)           (шоколад,)  0.010132   \n129              (говяжий фарш, яйца)  (минеральная вода,)  0.010132   \n\n     confidence  \n0      0.238368  \n61     0.325532  \n62     0.256711  \n93     0.220917  \n94     0.321400  \n..          ...  \n136    0.345133  \n92     0.398964  \n128    0.247557  \n110    0.200528  \n129    0.506667  \n\n[164 rows x 4 columns]",
      "text/html": "<div>\n<style scoped>\n    .dataframe tbody tr th:only-of-type {\n        vertical-align: middle;\n    }\n\n    .dataframe tbody tr th {\n        vertical-align: top;\n    }\n\n    .dataframe thead th {\n        text-align: right;\n    }\n</style>\n<table border=\"1\" class=\"dataframe\">\n  <thead>\n    <tr style=\"text-align: right;\">\n      <th></th>\n      <th>antecedent</th>\n      <th>consequent</th>\n      <th>support</th>\n      <th>confidence</th>\n    </tr>\n  </thead>\n  <tbody>\n    <tr>\n      <th>0</th>\n      <td>()</td>\n      <td>(минеральная вода,)</td>\n      <td>0.238368</td>\n      <td>0.238368</td>\n    </tr>\n    <tr>\n      <th>61</th>\n      <td>(макароны,)</td>\n      <td>(минеральная вода,)</td>\n      <td>0.061192</td>\n      <td>0.325532</td>\n    </tr>\n    <tr>\n      <th>62</th>\n      <td>(минеральная вода,)</td>\n      <td>(макароны,)</td>\n      <td>0.061192</td>\n      <td>0.256711</td>\n    </tr>\n    <tr>\n      <th>93</th>\n      <td>(минеральная вода,)</td>\n      <td>(шоколад,)</td>\n      <td>0.052660</td>\n      <td>0.220917</td>\n    </tr>\n    <tr>\n      <th>94</th>\n      <td>(шоколад,)</td>\n      <td>(минеральная вода,)</td>\n      <td>0.052660</td>\n      <td>0.321400</td>\n    </tr>\n    <tr>\n      <th>...</th>\n      <td>...</td>\n      <td>...</td>\n      <td>...</td>\n      <td>...</td>\n    </tr>\n    <tr>\n      <th>136</th>\n      <td>(макароны, картофель-фри)</td>\n      <td>(минеральная вода,)</td>\n      <td>0.010399</td>\n      <td>0.345133</td>\n    </tr>\n    <tr>\n      <th>92</th>\n      <td>(хлопья,)</td>\n      <td>(минеральная вода,)</td>\n      <td>0.010265</td>\n      <td>0.398964</td>\n    </tr>\n    <tr>\n      <th>128</th>\n      <td>(говяжий фарш, минеральная вода)</td>\n      <td>(яйца,)</td>\n      <td>0.010132</td>\n      <td>0.247557</td>\n    </tr>\n    <tr>\n      <th>110</th>\n      <td>(суп,)</td>\n      <td>(шоколад,)</td>\n      <td>0.010132</td>\n      <td>0.200528</td>\n    </tr>\n    <tr>\n      <th>129</th>\n      <td>(говяжий фарш, яйца)</td>\n      <td>(минеральная вода,)</td>\n      <td>0.010132</td>\n      <td>0.506667</td>\n    </tr>\n  </tbody>\n</table>\n<p>164 rows × 4 columns</p>\n</div>"
     },
     "execution_count": 9,
     "metadata": {},
     "output_type": "execute_result"
    }
   ],
   "execution_count": 9
  },
  {
   "metadata": {
    "ExecuteTime": {
     "end_time": "2025-03-05T10:39:01.462790Z",
     "start_time": "2025-03-05T10:39:01.461572Z"
    }
   },
   "cell_type": "code",
   "outputs": [],
   "execution_count": 9,
   "source": [],
   "id": "5a5edd1275045a30"
  }
 ],
 "metadata": {
  "kernelspec": {
   "display_name": "Python 3",
   "language": "python",
   "name": "python3"
  },
  "language_info": {
   "codemirror_mode": {
    "name": "ipython",
    "version": 2
   },
   "file_extension": ".py",
   "mimetype": "text/x-python",
   "name": "python",
   "nbconvert_exporter": "python",
   "pygments_lexer": "ipython2",
   "version": "2.7.6"
  }
 },
 "nbformat": 4,
 "nbformat_minor": 5
}
